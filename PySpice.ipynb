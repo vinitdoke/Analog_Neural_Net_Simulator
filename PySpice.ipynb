{
 "cells": [
  {
   "cell_type": "markdown",
   "id": "bb0ed438-344f-4644-a4ee-460e17d02541",
   "metadata": {},
   "source": [
    "# PySpice\n",
    "\n",
    " Video tutorial accompanying this notebook can be found [here](https://www.youtube.com/watch?v=3QyAJCCmsRs)."
   ]
  },
  {
   "cell_type": "markdown",
   "id": "35cec788-0ff6-4d60-8485-cad0c5c32e3a",
   "metadata": {
    "tags": []
   },
   "source": [
    "## Introduction"
   ]
  },
  {
   "cell_type": "markdown",
   "id": "5b600f49-ddf6-40ab-8f00-ccfc9ebd8564",
   "metadata": {},
   "source": [
    "PySpice is a Python-based library that provides a convenient interface for\n",
    "simulating and analyzing electronic circuits using SPICE.\n",
    "\n",
    "With PySpice, you can define circuits using Python and simulate their behavior\n",
    "using SPICE simulations. You can also visualize and analyze the results of\n",
    "these simulations using Python's powerful data manipulation and visualization\n",
    "tools."
   ]
  },
  {
   "cell_type": "markdown",
   "id": "48f07c71-49ef-4143-b765-61c7f7937f76",
   "metadata": {},
   "source": [
    "### Installation"
   ]
  },
  {
   "cell_type": "markdown",
   "id": "775978d5-ab43-4950-aa1e-fa9134d0fe89",
   "metadata": {},
   "source": [
    "Steps to install PySpice within a conda environment:\n",
    "\n",
    "- `conda create -n pyspice`\n",
    "- `conda activate pyspice`\n",
    "- `conda install -c conda-forge pyspice`\n",
    "- `conda install -c conda-forge ngspice ngspice-lib`\n",
    "- `conda install ipykernel`\n",
    "- `ipython kernel install --user --name=pyspice`"
   ]
  },
  {
   "cell_type": "markdown",
   "id": "ad1a98cf-622b-4617-b642-7310f406bbb0",
   "metadata": {},
   "source": [
    "## Import Relevant Modules"
   ]
  },
  {
   "cell_type": "code",
   "execution_count": 1,
   "id": "76d5925b-1d11-475d-b110-c788d2ffdfef",
   "metadata": {
    "tags": []
   },
   "outputs": [],
   "source": [
    "from PySpice.Spice.Netlist import Circuit # for creating circuits\n",
    "from PySpice.Unit import *                # for using units"
   ]
  },
  {
   "cell_type": "markdown",
   "id": "f0dee82d-04ff-4804-8d68-4c868f57da23",
   "metadata": {},
   "source": [
    "To turn off warnings about unsupported ngspice versions in PySpice, you can set\n",
    "the logging level to ERROR, which will suppress the warning messages."
   ]
  },
  {
   "cell_type": "code",
   "execution_count": 2,
   "id": "126e9cd0-013b-4141-9cec-0cfb66f1e9a1",
   "metadata": {
    "tags": []
   },
   "outputs": [],
   "source": [
    "import PySpice.Logging.Logging as Logging\n",
    "logger = Logging.setup_logging(logging_level=Logging.logging.ERROR)"
   ]
  },
  {
   "cell_type": "markdown",
   "id": "28e73a72-b4b8-4a31-9bcc-bf3eb1177ea2",
   "metadata": {},
   "source": [
    "Import numpy and matplotlib for data analysis and plotting."
   ]
  },
  {
   "cell_type": "code",
   "execution_count": 3,
   "id": "e9d010ee-b5e3-4450-bbeb-86d7f028b08d",
   "metadata": {
    "tags": []
   },
   "outputs": [],
   "source": [
    "import numpy as np\n",
    "import matplotlib.pyplot as plt"
   ]
  },
  {
   "cell_type": "markdown",
   "id": "d33289d8-86c8-4f67-a3e5-b0a7f808c9b1",
   "metadata": {},
   "source": [
    "Use LaTex fonts/style in plots (make sure you have a LaTex backend installed)."
   ]
  },
  {
   "cell_type": "code",
   "execution_count": 4,
   "id": "c7045297-b62a-4071-998e-b7ddae8ec7c5",
   "metadata": {
    "tags": []
   },
   "outputs": [],
   "source": [
    "import matplotlib\n",
    "\n",
    "matplotlib.rcParams.update({'font.size': 14,\n",
    "                            'text.usetex': True,      # use TeX backend\n",
    "                            'mathtext.fontset': 'cm', # computer modern\n",
    "                            'mathtext.rm': 'serif'})"
   ]
  },
  {
   "cell_type": "markdown",
   "id": "9dd9e867-f986-471e-be7b-b3b136dd02b3",
   "metadata": {},
   "source": [
    "## Template\n",
    "\n",
    "The process of creating and simulating a circuit in PySpice can be summarized as follows:\n",
    "\n",
    "- Create a circuit instance\n",
    "- Add components to the circuit\n",
    "- Set up the simulator\n",
    "- Simulate the circuit\n",
    "- Read the result"
   ]
  },
  {
   "cell_type": "markdown",
   "id": "9bbd92b4-f57e-49eb-9e1e-fb6d1b1f0029",
   "metadata": {},
   "source": [
    "## Example 1: Basics"
   ]
  },
  {
   "cell_type": "markdown",
   "id": "f45d0992-aae6-46c7-a73c-12b9a580da38",
   "metadata": {},
   "source": [
    "The objective of this section is to illustrate with a simple example the steps\n",
    "involved in the conversion of a circuit from schematic to a netlist, performing\n",
    "a simulation, and subsequently retrieving the simulation output."
   ]
  },
  {
   "cell_type": "markdown",
   "id": "248a3c76-0b1e-4d56-a2b7-ffe6fa8104fc",
   "metadata": {},
   "source": [
    "![circuit1](./images/cir1.svg)"
   ]
  },
  {
   "cell_type": "markdown",
   "id": "a9eab363-359e-400d-a396-a0742181aeb5",
   "metadata": {
    "tags": []
   },
   "source": [
    "### Build netlist"
   ]
  },
  {
   "cell_type": "markdown",
   "id": "08ef4366-c5ad-4a8a-917d-0c170fafefb2",
   "metadata": {},
   "source": [
    "Instantiate a circuit instance"
   ]
  },
  {
   "cell_type": "code",
   "execution_count": 5,
   "id": "6e7da22d-9ec5-44a3-91f4-7abadd8c126e",
   "metadata": {
    "tags": []
   },
   "outputs": [],
   "source": [
    "circuit = Circuit('Resistive Divider')"
   ]
  },
  {
   "cell_type": "markdown",
   "id": "bdee6ce9-80dd-467d-b832-039bf734db6a",
   "metadata": {},
   "source": [
    "Add components to the circuit as shown in the schematic above"
   ]
  },
  {
   "cell_type": "code",
   "execution_count": 6,
   "id": "d5ff6282-137c-4fa6-ab5c-8bdf34605986",
   "metadata": {
    "tags": []
   },
   "outputs": [
    {
     "data": {
      "text/plain": [
       "Resistor R3"
      ]
     },
     "execution_count": 6,
     "metadata": {},
     "output_type": "execute_result"
    }
   ],
   "source": [
    "circuit.V(1, 'n_in', circuit.gnd, 10@u_V)\n",
    "circuit.R(1, 'n_in', 'n_out', 2@u_kOhm)\n",
    "circuit.R(2, 'n_out', circuit.gnd, 6@u_kOhm)\n",
    "circuit.R(3, 'n_out', circuit.gnd, 6e3) # you can also pass the actual value directly"
   ]
  },
  {
   "cell_type": "markdown",
   "id": "9c246e32-03fd-468c-b839-5793fa7543ce",
   "metadata": {},
   "source": [
    "Print the netlist so far"
   ]
  },
  {
   "cell_type": "code",
   "execution_count": 7,
   "id": "33ef556f-1bcd-4f3a-989c-793a316546ff",
   "metadata": {
    "tags": []
   },
   "outputs": [
    {
     "name": "stdout",
     "output_type": "stream",
     "text": [
      ".title Resistive Divider\n",
      "V1 n_in 0 10V\n",
      "R1 n_in n_out 2kOhm\n",
      "R2 n_out 0 6kOhm\n",
      "R3 n_out 0 6000.0\n",
      "\n"
     ]
    }
   ],
   "source": [
    "print(circuit)"
   ]
  },
  {
   "cell_type": "markdown",
   "id": "8862bc64-f2e1-4d42-8ca9-0e9ccf05f8f4",
   "metadata": {
    "tags": []
   },
   "source": [
    "### Set up simulator"
   ]
  },
  {
   "cell_type": "markdown",
   "id": "f24f9c7d-b9db-4208-9ff8-608e6e8e5b71",
   "metadata": {},
   "source": [
    "Create a simulator object (with some parameters)"
   ]
  },
  {
   "cell_type": "code",
   "execution_count": 8,
   "id": "a210e1e5-e523-47a8-b5ea-8ca2587693bb",
   "metadata": {
    "tags": []
   },
   "outputs": [
    {
     "name": "stdout",
     "output_type": "stream",
     "text": [
      "2024-05-14 12:04:44,347 - PySpice.Spice.NgSpice.Shared.NgSpiceShared - Shared.ERROR - Note: can't find the initialization file spinit.\n",
      ".title Resistive Divider\n",
      "V1 n_in 0 10V\n",
      "R1 n_in n_out 2kOhm\n",
      "R2 n_out 0 6kOhm\n",
      "R3 n_out 0 6000.0\n",
      ".options TEMP = 25C\n",
      ".options TNOM = 25C\n",
      ".end\n",
      "\n"
     ]
    }
   ],
   "source": [
    "simulator = circuit.simulator(temperature=25, nominal_temperature=25)\n",
    "print(simulator)"
   ]
  },
  {
   "cell_type": "markdown",
   "id": "62200947-b639-4a0d-a20d-cba9116e2b8c",
   "metadata": {},
   "source": [
    "If a temperature is not set, the default of 27C is used."
   ]
  },
  {
   "cell_type": "markdown",
   "id": "a50669c4-5022-439a-9cc1-9a1398768f62",
   "metadata": {},
   "source": [
    "### Run analysis"
   ]
  },
  {
   "cell_type": "markdown",
   "id": "12073ed8-1d91-4da5-8203-b5a4603ba9e9",
   "metadata": {},
   "source": [
    "Run operating point analysis"
   ]
  },
  {
   "cell_type": "code",
   "execution_count": 9,
   "id": "7b2f0774-e894-482c-96b2-431dd557e81c",
   "metadata": {
    "tags": []
   },
   "outputs": [],
   "source": [
    "analysis = simulator.operating_point()"
   ]
  },
  {
   "cell_type": "markdown",
   "id": "2960c995-37cd-4883-a59a-ba5e8b558228",
   "metadata": {
    "tags": []
   },
   "source": [
    "### Read result"
   ]
  },
  {
   "cell_type": "markdown",
   "id": "43ef3869-a71a-409d-825e-a1442741812e",
   "metadata": {},
   "source": [
    "Result of the analysis can be accessed via the `analysis` object.\n",
    "\n",
    "- Votages can be accessed via `analysis.nodes`\n",
    "- Currents can be accessed via `analysis.branches`\n",
    "- Time values (for transient analysis) can be accessed via `analysis.time`\n",
    "- Frequency values (for ac analysis) can be accessed via `analysis.frequency`\n",
    "- Sweep values (for dc sweep) can be accessed via `analysis.sweep`\n",
    "- Internal parameters can be retrieved from `analysis.internal_parameters`\n",
    "\n",
    "The above objects are dictionaries, where the keys are the node/branch names\n",
    "and the values are the result of the simulation. In PySpice, the values are of\n",
    "`WaveForm` type, and are stored as `numpy` arrays."
   ]
  },
  {
   "cell_type": "markdown",
   "id": "1458a8a2-13b3-4b64-8c4c-ce56b77d38cf",
   "metadata": {},
   "source": [
    "Print out node and branch names"
   ]
  },
  {
   "cell_type": "code",
   "execution_count": 10,
   "id": "b85e9787-dcf4-4869-ab60-990726c34a15",
   "metadata": {
    "tags": []
   },
   "outputs": [
    {
     "data": {
      "text/plain": [
       "dict_keys(['n_out', 'n_in'])"
      ]
     },
     "execution_count": 10,
     "metadata": {},
     "output_type": "execute_result"
    }
   ],
   "source": [
    "analysis.nodes.keys()"
   ]
  },
  {
   "cell_type": "code",
   "execution_count": 11,
   "id": "86e509a1-6ed2-450c-9b6e-71c4e540fbf3",
   "metadata": {
    "tags": []
   },
   "outputs": [
    {
     "data": {
      "text/plain": [
       "dict_keys(['v1'])"
      ]
     },
     "execution_count": 11,
     "metadata": {},
     "output_type": "execute_result"
    }
   ],
   "source": [
    "analysis.branches.keys()"
   ]
  },
  {
   "cell_type": "markdown",
   "id": "c2a25fb1-c2f2-4a0c-9b4d-6672635f6602",
   "metadata": {},
   "source": [
    "Print out the voltage values"
   ]
  },
  {
   "cell_type": "code",
   "execution_count": 12,
   "id": "139f7454-816c-443f-9874-6d33cdee0e4d",
   "metadata": {
    "tags": []
   },
   "outputs": [
    {
     "name": "stdout",
     "output_type": "stream",
     "text": [
      "n_out: 6.0V\n",
      "n_in: 10.0V\n"
     ]
    },
    {
     "name": "stderr",
     "output_type": "stream",
     "text": [
      "/var/folders/zf/hzkn6q7d7ld66jt8v08yf7r80000gn/T/ipykernel_48044/32311265.py:2: DeprecationWarning: Conversion of an array with ndim > 0 to a scalar is deprecated, and will error in future. Ensure you extract a single element from your array before performing this operation. (Deprecated NumPy 1.25.)\n",
      "  print(f\"{str(node)}: {float(node)}V\")\n"
     ]
    }
   ],
   "source": [
    "for node in analysis.nodes.values():\n",
    "    print(f\"{str(node)}: {float(node)}V\")"
   ]
  },
  {
   "cell_type": "markdown",
   "id": "0baf5790-153b-405a-9eb8-c5d9a3a7d9fd",
   "metadata": {},
   "source": [
    "Print out the current through the independent voltage sources"
   ]
  },
  {
   "cell_type": "code",
   "execution_count": 13,
   "id": "e4d81b22-c16c-44b0-9efb-404e0eee18de",
   "metadata": {
    "tags": []
   },
   "outputs": [
    {
     "name": "stdout",
     "output_type": "stream",
     "text": [
      "v1: -0.002A\n"
     ]
    },
    {
     "name": "stderr",
     "output_type": "stream",
     "text": [
      "/var/folders/zf/hzkn6q7d7ld66jt8v08yf7r80000gn/T/ipykernel_48044/524935133.py:2: DeprecationWarning: Conversion of an array with ndim > 0 to a scalar is deprecated, and will error in future. Ensure you extract a single element from your array before performing this operation. (Deprecated NumPy 1.25.)\n",
      "  print(f\"{str(branch)}: {float(branch)}A\")\n"
     ]
    }
   ],
   "source": [
    "for branch in analysis.branches.values():\n",
    "    print(f\"{str(branch)}: {float(branch)}A\")"
   ]
  },
  {
   "cell_type": "markdown",
   "id": "785da362-6a94-45d8-8411-6fa39114da25",
   "metadata": {},
   "source": [
    "Notice that we do not get the currents through the resistors. This is\n",
    "because, by default, SPICE saves only the currents through the independent\n",
    "voltage sources.\n",
    "\n",
    "To save the currents through all the components, we need to need to explicitly\n",
    "set the `savecurrents` option."
   ]
  },
  {
   "cell_type": "code",
   "execution_count": 14,
   "id": "be116f94-d28b-498e-8ebb-fb93471fd312",
   "metadata": {
    "tags": []
   },
   "outputs": [],
   "source": [
    "simulator = circuit.simulator(temperature=25, nominal_temperature=25)\n",
    "simulator.save_currents = True\n",
    "analysis = simulator.operating_point()"
   ]
  },
  {
   "cell_type": "code",
   "execution_count": 15,
   "id": "d6b9d2a8-3fba-41b6-96d7-b9a1f5ea8e01",
   "metadata": {
    "tags": []
   },
   "outputs": [
    {
     "name": "stdout",
     "output_type": "stream",
     "text": [
      "@r3[i]: 0.001A\n",
      "@r2[i]: 0.001A\n",
      "@r1[i]: 0.002A\n"
     ]
    },
    {
     "name": "stderr",
     "output_type": "stream",
     "text": [
      "/var/folders/zf/hzkn6q7d7ld66jt8v08yf7r80000gn/T/ipykernel_48044/2499060072.py:2: DeprecationWarning: Conversion of an array with ndim > 0 to a scalar is deprecated, and will error in future. Ensure you extract a single element from your array before performing this operation. (Deprecated NumPy 1.25.)\n",
      "  print(f\"{str(param)}: {float(param)}A\")\n"
     ]
    }
   ],
   "source": [
    "for param in analysis.internal_parameters.values():\n",
    "    print(f\"{str(param)}: {float(param)}A\")"
   ]
  },
  {
   "cell_type": "code",
   "execution_count": null,
   "id": "39ba60c7-f304-492d-8946-a914be84ea63",
   "metadata": {},
   "outputs": [],
   "source": []
  },
  {
   "cell_type": "code",
   "execution_count": null,
   "id": "213bae8a-eea9-436c-a4f1-26fada73a743",
   "metadata": {},
   "outputs": [],
   "source": []
  },
  {
   "cell_type": "markdown",
   "id": "43e57ab0-5428-4b2f-8820-3f24004e4c60",
   "metadata": {},
   "source": [
    "## Example 2: Creating Subcircuits"
   ]
  },
  {
   "cell_type": "markdown",
   "id": "b4a9f5b4-990f-41f1-8fd9-a5ebf18b03bd",
   "metadata": {},
   "source": [
    "The purpose of this section is to demonstrate the use of a subcircuit. In\n",
    "essence, a subcircuit is a small circuit that is part of a larger circuit. Once\n",
    "created, a subcircuit can be used multiple times in different parts of a\n",
    "circuit or in entirely different circuits, eliminating the need to recreate the\n",
    "same functionality repeatedly. The parameters of the subcircuit can be modified\n",
    "when used in different contexts, allowing for flexibility in design. This\n",
    "feature not only saves time but also helps to maintain consistency across\n",
    "circuit designs."
   ]
  },
  {
   "cell_type": "markdown",
   "id": "77a4bab4-3f93-47f5-b25f-2669ce08cda8",
   "metadata": {},
   "source": [
    "![circuit5](./images/cir5.svg)"
   ]
  },
  {
   "cell_type": "code",
   "execution_count": 16,
   "id": "e6f2033b-7e3d-4abc-b9ba-697eb6442171",
   "metadata": {},
   "outputs": [],
   "source": [
    "from PySpice.Spice.Netlist import SubCircuit # for creating subcircuits"
   ]
  },
  {
   "cell_type": "markdown",
   "id": "d2b101a8-a8d3-49a0-aef5-40f6887b1a52",
   "metadata": {},
   "source": [
    "Let's create an RC subcircuit that we can reuse"
   ]
  },
  {
   "cell_type": "code",
   "execution_count": 17,
   "id": "603337f7-5b74-435d-a612-157adfabcc6f",
   "metadata": {},
   "outputs": [],
   "source": [
    "class RC(SubCircuit):\n",
    "    __nodes__ = ('n1', 'n2')\n",
    "    def __init__(self, name, R1=1@u_kOhm, C1=10@u_uF): # default values for the components\n",
    "        SubCircuit.__init__(self, name, *self.__nodes__)\n",
    "        self.R(1, 'n1', 'n2', R1)\n",
    "        self.C(1, 'n2', circuit.gnd, C1)"
   ]
  },
  {
   "cell_type": "code",
   "execution_count": 18,
   "id": "2de73ad0-4035-46da-acdc-0370b4354998",
   "metadata": {},
   "outputs": [],
   "source": [
    "# instantiate a new circuit instance\n",
    "circuit = Circuit('Second Order RC Circuit')"
   ]
  },
  {
   "cell_type": "markdown",
   "id": "c3cb1e8a-21f9-40d8-9bbf-52e0a0d27a64",
   "metadata": {},
   "source": [
    "Add the subcircuit to the netlist so that it can be used like any other component."
   ]
  },
  {
   "cell_type": "code",
   "execution_count": 19,
   "id": "f5b33d8c-cc65-490b-a5e9-a3020886e5b0",
   "metadata": {},
   "outputs": [
    {
     "name": "stdout",
     "output_type": "stream",
     "text": [
      ".title Second Order RC Circuit\n",
      ".subckt RC_BLOCK n1 n2\n",
      "R1 n1 n2 1kOhm\n",
      "C1 n2 0 1uF\n",
      ".ends RC_BLOCK\n",
      "\n",
      "\n"
     ]
    }
   ],
   "source": [
    "circuit.subcircuit(RC(name='RC_BLOCK', C1=1@u_uF))\n",
    "print(circuit)"
   ]
  },
  {
   "cell_type": "markdown",
   "id": "805f4e0e-2634-44c4-ad83-6e6615948e46",
   "metadata": {},
   "source": [
    "Use the subcircuit like any other circuit component (subcircuit uses the symbol X)"
   ]
  },
  {
   "cell_type": "code",
   "execution_count": 20,
   "id": "738b4a41-e824-4f85-ae56-b5f894850f29",
   "metadata": {},
   "outputs": [
    {
     "name": "stdout",
     "output_type": "stream",
     "text": [
      ".title Second Order RC Circuit\n",
      ".subckt RC_BLOCK n1 n2\n",
      "R1 n1 n2 1kOhm\n",
      "C1 n2 0 1uF\n",
      ".ends RC_BLOCK\n",
      "V1 n_in 0 DC 0V AC 1V SIN(0V 1V 50Hz 0s 0Hz)\n",
      "X1 n_in n_12 RC_BLOCK\n",
      "X2 n_12 n_out RC_BLOCK\n",
      "\n"
     ]
    }
   ],
   "source": [
    "circuit.SinusoidalVoltageSource(1, 'n_in', circuit.gnd, amplitude=1@u_V)\n",
    "circuit.X('1', 'RC_BLOCK', 'n_in', 'n_12')\n",
    "circuit.X('2', 'RC_BLOCK', 'n_12', 'n_out') # notice that we are using the same subcircuit here\n",
    "print(circuit)"
   ]
  },
  {
   "cell_type": "markdown",
   "id": "6ee4d516-f7e4-4597-84fc-df7039e2b25e",
   "metadata": {},
   "source": [
    "Let's do an AC simulation"
   ]
  },
  {
   "cell_type": "code",
   "execution_count": 21,
   "id": "cbc75fb7-2a0c-4166-bbec-7f29c4082a44",
   "metadata": {},
   "outputs": [],
   "source": [
    "simulator = circuit.simulator(temperature=25, nominal_temperature=25)\n",
    "analysis = simulator.ac(start_frequency=1@u_Hz, stop_frequency=10@u_MHz, number_of_points=10,  variation='dec')"
   ]
  },
  {
   "cell_type": "markdown",
   "id": "e9320d45-b844-4fdf-bea2-072261d4c092",
   "metadata": {},
   "source": [
    "Get the frequency and output voltage"
   ]
  },
  {
   "cell_type": "code",
   "execution_count": 22,
   "id": "2a0b0258-a150-4f8a-b778-294073e47747",
   "metadata": {},
   "outputs": [],
   "source": [
    "frequency = analysis.frequency\n",
    "v_out = np.array(analysis['n_out'])   # the data points are complex numbers"
   ]
  },
  {
   "cell_type": "markdown",
   "id": "b186cd83-f34c-4117-821b-a3173b7ce66b",
   "metadata": {},
   "source": [
    "Make a Bode Plot"
   ]
  },
  {
   "cell_type": "code",
   "execution_count": 23,
   "id": "3a7d19b6-b8c5-4869-90c7-4640641397ca",
   "metadata": {},
   "outputs": [],
   "source": [
    "def bode_plot(frequency, signal):\n",
    "    \n",
    "    # calculate the gain (in dB) and phase from the signal\n",
    "    mag = 20*np.log10(np.absolute(signal))\n",
    "    phase = np.angle(signal, deg=True)\n",
    "    \n",
    "    # set up plot\n",
    "    fig, ax_mag = plt.subplots(figsize=(10,5))\n",
    "    ax_phase = ax_mag.twinx()\n",
    "\n",
    "    # magnitude axis\n",
    "    ax_mag.set_xlabel('Frequency (Hz)')\n",
    "    ax_mag.set_ylabel('Magnitude (dB)')\n",
    "    ax_mag.set_xscale('log')\n",
    "    p1 = ax_mag.plot(frequency, mag, label=\"gain\")\n",
    "    \n",
    "    # phase axis\n",
    "    ax_phase.set_ylabel('Phase (deg)')\n",
    "    ax_phase.set_xscale('log')\n",
    "    p2 = ax_phase.plot(frequency, phase, label=\"phase\", linestyle='dashed', color='red')\n",
    "    \n",
    "    # add grid\n",
    "    ax_mag.grid(color='gray', alpha=0.5, linestyle='dashed', linewidth=0.5, which=\"both\")\n",
    "    \n",
    "    lines = p1 + p2\n",
    "    labels = [l.get_label() for l in lines]\n",
    "    ax_mag.legend(lines, labels)\n",
    "\n",
    "    plt.show()"
   ]
  },
  {
   "cell_type": "code",
   "execution_count": 24,
   "id": "6d930361-232a-4ff1-97af-52aca94ab880",
   "metadata": {},
   "outputs": [
    {
     "data": {
      "image/png": "[encoded data removed]",
      "text/plain": [
       "<Figure size 1000x500 with 2 Axes>"
      ]
     },
     "metadata": {},
     "output_type": "display_data"
    }
   ],
   "source": [
    "bode_plot(frequency, v_out)"
   ]
  },
  {
   "cell_type": "code",
   "execution_count": null,
   "id": "bb74aac0-704f-47c1-9bfe-fa45967bc8d8",
   "metadata": {
    "tags": []
   },
   "outputs": [],
   "source": []
  },
  {
   "cell_type": "code",
   "execution_count": null,
   "id": "3f7c026d-c26c-4a49-a2ca-5e8d2ac412e6",
   "metadata": {},
   "outputs": [],
   "source": []
  },
  {
   "cell_type": "markdown",
   "id": "a6e7c86e-97e3-475d-b4b8-7a16fde2359d",
   "metadata": {},
   "source": [
    "## Example 3: Using Models"
   ]
  },
  {
   "cell_type": "markdown",
   "id": "3ae23a08-5d8c-4bdc-abce-b559c6255132",
   "metadata": {},
   "source": [
    "In this section, we showcase the different ways models can be incoperated into a\n",
    "netlist. Models are vital components that enable accurate simulation of\n",
    "real-world device behavior in a circuit. These models reflect a component's\n",
    "electrical properties and rely on data from experimental measurements."
   ]
  },
  {
   "cell_type": "markdown",
   "id": "a42d2304-0084-4ea3-b5a3-5a5cf0baad8e",
   "metadata": {},
   "source": [
    "![circuit2](./images/cir2.svg)"
   ]
  },
  {
   "cell_type": "markdown",
   "id": "c59eb729-36af-4fbc-bf7f-1e31c19272ce",
   "metadata": {},
   "source": [
    "First, let's build the circuit without the diode"
   ]
  },
  {
   "cell_type": "code",
   "execution_count": 25,
   "id": "a8c4ad76-834d-45cb-8fce-d82450134144",
   "metadata": {},
   "outputs": [
    {
     "name": "stdout",
     "output_type": "stream",
     "text": [
      ".title Diode circuit\n",
      "V1 n_in 0 1V\n",
      "R1 n_in n_out 1kOhm\n",
      "\n"
     ]
    }
   ],
   "source": [
    "circuit = Circuit('Diode circuit')\n",
    "circuit.V(1, 'n_in', circuit.gnd, 1@u_V)\n",
    "circuit.R(1, 'n_in', 'n_out', 1@u_kOhm)\n",
    "print(circuit)"
   ]
  },
  {
   "cell_type": "markdown",
   "id": "30b2669b-0adf-4522-96ee-2b713121be8f",
   "metadata": {},
   "source": [
    "### Including a model"
   ]
  },
  {
   "cell_type": "markdown",
   "id": "5f9a460c-c6f9-4a65-baee-a990e0b91870",
   "metadata": {},
   "source": [
    "There are several ways to include a SPICE model:\n",
    "\n",
    "1. The first way is to define the model via PySpice\n",
    "2. The second way is to use raw SPICE syntax\n",
    "3. The third way is to import the model or subcircuit from a library"
   ]
  },
  {
   "cell_type": "markdown",
   "id": "3a8a62f7-85cc-4ea9-b639-e2c8990f166e",
   "metadata": {},
   "source": [
    "#### Method 1: Define the model using via PySpice"
   ]
  },
  {
   "cell_type": "code",
   "execution_count": 26,
   "id": "141b9f8d-2744-455f-a5e9-67f0c1a86f13",
   "metadata": {},
   "outputs": [
    {
     "data": {
      "text/plain": [
       "<class 'PySpice.Spice.Netlist.DeviceModel'> 1N4148"
      ]
     },
     "execution_count": 26,
     "metadata": {},
     "output_type": "execute_result"
    }
   ],
   "source": [
    "circuit.model('1N4148', 'D',\n",
    "               IS = 4.352E-9, N = 1.906,   BV = 110,\n",
    "              IBV = 0.0001,  RS = 0.6458, CJO = 7.048E-13,\n",
    "               VJ = 0.869,    M = 0.03,    FC = 0.5, TT = 3.48E-9)"
   ]
  },
  {
   "cell_type": "markdown",
   "id": "5112a412-1306-400e-96a1-f701f501ef7d",
   "metadata": {},
   "source": [
    "We can now include the diode in our circuit"
   ]
  },
  {
   "cell_type": "code",
   "execution_count": 27,
   "id": "588743bc-9281-4e23-b606-b1bdf1cd4130",
   "metadata": {},
   "outputs": [
    {
     "data": {
      "text/plain": [
       "Diode D1"
      ]
     },
     "execution_count": 27,
     "metadata": {},
     "output_type": "execute_result"
    }
   ],
   "source": [
    "circuit.D(1, 'n_out', circuit.gnd, model='1N4148')"
   ]
  },
  {
   "cell_type": "markdown",
   "id": "5c365059-1072-4a1c-a6f7-c64a2fd723ce",
   "metadata": {},
   "source": [
    "#### Method 2: Use raw SPICE"
   ]
  },
  {
   "cell_type": "code",
   "execution_count": 28,
   "id": "25607fa6-9753-45c0-b53e-353efb0ae9d4",
   "metadata": {},
   "outputs": [
    {
     "ename": "NameError",
     "evalue": "Element name D1 is already defined",
     "output_type": "error",
     "traceback": [
      "\u001b[0;31m---------------------------------------------------------------------------\u001b[0m",
      "\u001b[0;31mNameError\u001b[0m                                 Traceback (most recent call last)",
      "Cell \u001b[0;32mIn[28], line 5\u001b[0m\n\u001b[1;32m      1\u001b[0m circuit\u001b[38;5;241m.\u001b[39mraw_spice \u001b[38;5;241m=\u001b[39m \u001b[38;5;124m\"\"\"\u001b[39m\n\u001b[1;32m      2\u001b[0m \u001b[38;5;124m.model 1N4148 D (BV=110 CJO=7.048e-13 FC=0.5 IBV=0.0001 IS=4.352e-09 M=0.03 N=1.906 RS=0.6458 TT=3.48e-09 VJ=0.869)\u001b[39m\n\u001b[1;32m      3\u001b[0m \u001b[38;5;124m\"\"\"\u001b[39m\n\u001b[0;32m----> 5\u001b[0m \u001b[43mcircuit\u001b[49m\u001b[38;5;241;43m.\u001b[39;49m\u001b[43mD\u001b[49m\u001b[43m(\u001b[49m\u001b[38;5;241;43m1\u001b[39;49m\u001b[43m,\u001b[49m\u001b[43m \u001b[49m\u001b[38;5;124;43m'\u001b[39;49m\u001b[38;5;124;43mn_out\u001b[39;49m\u001b[38;5;124;43m'\u001b[39;49m\u001b[43m,\u001b[49m\u001b[43m \u001b[49m\u001b[43mcircuit\u001b[49m\u001b[38;5;241;43m.\u001b[39;49m\u001b[43mgnd\u001b[49m\u001b[43m,\u001b[49m\u001b[43m \u001b[49m\u001b[43mmodel\u001b[49m\u001b[38;5;241;43m=\u001b[39;49m\u001b[38;5;124;43m'\u001b[39;49m\u001b[38;5;124;43m1N4148\u001b[39;49m\u001b[38;5;124;43m'\u001b[39;49m\u001b[43m)\u001b[49m\n",
      "File \u001b[0;32m~/Library/CloudStorage/OneDrive-IndianInstituteofTechnologyBombay/ACADEMICS/SEM10/DDP Stage 2/Simulator/myenv/lib/python3.12/site-packages/PySpice/Spice/__init__.py:56\u001b[0m, in \u001b[0;36m_make_function.<locals>.function\u001b[0;34m(self, *args, **kwargs)\u001b[0m\n\u001b[1;32m     55\u001b[0m \u001b[38;5;28;01mdef\u001b[39;00m \u001b[38;5;21mfunction\u001b[39m(\u001b[38;5;28mself\u001b[39m, \u001b[38;5;241m*\u001b[39margs, \u001b[38;5;241m*\u001b[39m\u001b[38;5;241m*\u001b[39mkwargs):\n\u001b[0;32m---> 56\u001b[0m     \u001b[38;5;28;01mreturn\u001b[39;00m \u001b[43melement_class\u001b[49m\u001b[43m(\u001b[49m\u001b[38;5;28;43mself\u001b[39;49m\u001b[43m,\u001b[49m\u001b[43m \u001b[49m\u001b[38;5;241;43m*\u001b[39;49m\u001b[43margs\u001b[49m\u001b[43m,\u001b[49m\u001b[43m \u001b[49m\u001b[38;5;241;43m*\u001b[39;49m\u001b[38;5;241;43m*\u001b[39;49m\u001b[43mkwargs\u001b[49m\u001b[43m)\u001b[49m\n",
      "File \u001b[0;32m~/Library/CloudStorage/OneDrive-IndianInstituteofTechnologyBombay/ACADEMICS/SEM10/DDP Stage 2/Simulator/myenv/lib/python3.12/site-packages/PySpice/Spice/Netlist.py:691\u001b[0m, in \u001b[0;36mFixedPinElement.__init__\u001b[0;34m(self, netlist, name, *args, **kwargs)\u001b[0m\n\u001b[1;32m    688\u001b[0m             \u001b[38;5;28;01mraise\u001b[39;00m \u001b[38;5;167;01mNameError\u001b[39;00m(\u001b[38;5;124m\"\u001b[39m\u001b[38;5;124mNode \u001b[39m\u001b[38;5;124m'\u001b[39m\u001b[38;5;132;01m{}\u001b[39;00m\u001b[38;5;124m'\u001b[39m\u001b[38;5;124m is missing for element \u001b[39m\u001b[38;5;132;01m{}\u001b[39;00m\u001b[38;5;124m\"\u001b[39m\u001b[38;5;241m.\u001b[39mformat(pin_definition\u001b[38;5;241m.\u001b[39mname, \u001b[38;5;28mself\u001b[39m\u001b[38;5;241m.\u001b[39mname))\n\u001b[1;32m    689\u001b[0m         pin_definition_nodes\u001b[38;5;241m.\u001b[39mappend((pin_definition, node))\n\u001b[0;32m--> 691\u001b[0m \u001b[38;5;28;43msuper\u001b[39;49m\u001b[43m(\u001b[49m\u001b[43m)\u001b[49m\u001b[38;5;241;43m.\u001b[39;49m\u001b[38;5;21;43m__init__\u001b[39;49m\u001b[43m(\u001b[49m\u001b[43mnetlist\u001b[49m\u001b[43m,\u001b[49m\u001b[43m \u001b[49m\u001b[43mname\u001b[49m\u001b[43m,\u001b[49m\u001b[43m \u001b[49m\u001b[38;5;241;43m*\u001b[39;49m\u001b[43margs\u001b[49m\u001b[43m,\u001b[49m\u001b[43m \u001b[49m\u001b[38;5;241;43m*\u001b[39;49m\u001b[38;5;241;43m*\u001b[39;49m\u001b[43mkwargs\u001b[49m\u001b[43m)\u001b[49m\n\u001b[1;32m    693\u001b[0m \u001b[38;5;28mself\u001b[39m\u001b[38;5;241m.\u001b[39m_pins \u001b[38;5;241m=\u001b[39m [Pin(\u001b[38;5;28mself\u001b[39m, pin_definition, netlist\u001b[38;5;241m.\u001b[39mget_node(node, \u001b[38;5;28;01mTrue\u001b[39;00m))\n\u001b[1;32m    694\u001b[0m               \u001b[38;5;28;01mfor\u001b[39;00m pin_definition, node \u001b[38;5;129;01min\u001b[39;00m pin_definition_nodes]\n",
      "File \u001b[0;32m~/Library/CloudStorage/OneDrive-IndianInstituteofTechnologyBombay/ACADEMICS/SEM10/DDP Stage 2/Simulator/myenv/lib/python3.12/site-packages/PySpice/Spice/Netlist.py:529\u001b[0m, in \u001b[0;36mElement.__init__\u001b[0;34m(self, netlist, name, *args, **kwargs)\u001b[0m\n\u001b[1;32m    526\u001b[0m         \u001b[38;5;28;01mraise\u001b[39;00m \u001b[38;5;167;01mValueError\u001b[39;00m(\u001b[38;5;124m'\u001b[39m\u001b[38;5;124mUnknown argument \u001b[39m\u001b[38;5;132;01m{}\u001b[39;00m\u001b[38;5;124m=\u001b[39m\u001b[38;5;132;01m{}\u001b[39;00m\u001b[38;5;124m'\u001b[39m\u001b[38;5;241m.\u001b[39mformat(key, value))\n\u001b[1;32m    528\u001b[0m \u001b[38;5;28mself\u001b[39m\u001b[38;5;241m.\u001b[39m_pins \u001b[38;5;241m=\u001b[39m ()\n\u001b[0;32m--> 529\u001b[0m \u001b[43mnetlist\u001b[49m\u001b[38;5;241;43m.\u001b[39;49m\u001b[43m_add_element\u001b[49m\u001b[43m(\u001b[49m\u001b[38;5;28;43mself\u001b[39;49m\u001b[43m)\u001b[49m\n",
      "File \u001b[0;32m~/Library/CloudStorage/OneDrive-IndianInstituteofTechnologyBombay/ACADEMICS/SEM10/DDP Stage 2/Simulator/myenv/lib/python3.12/site-packages/PySpice/Spice/Netlist.py:965\u001b[0m, in \u001b[0;36mNetlist._add_element\u001b[0;34m(self, element)\u001b[0m\n\u001b[1;32m    963\u001b[0m     \u001b[38;5;28mself\u001b[39m\u001b[38;5;241m.\u001b[39m_elements[element\u001b[38;5;241m.\u001b[39mname] \u001b[38;5;241m=\u001b[39m element\n\u001b[1;32m    964\u001b[0m \u001b[38;5;28;01melse\u001b[39;00m:\n\u001b[0;32m--> 965\u001b[0m     \u001b[38;5;28;01mraise\u001b[39;00m \u001b[38;5;167;01mNameError\u001b[39;00m(\u001b[38;5;124m\"\u001b[39m\u001b[38;5;124mElement name \u001b[39m\u001b[38;5;132;01m{}\u001b[39;00m\u001b[38;5;124m is already defined\u001b[39m\u001b[38;5;124m\"\u001b[39m\u001b[38;5;241m.\u001b[39mformat(element\u001b[38;5;241m.\u001b[39mname))\n",
      "\u001b[0;31mNameError\u001b[0m: Element name D1 is already defined"
     ]
    }
   ],
   "source": [
    "circuit.raw_spice = \"\"\"\n",
    ".model 1N4148 D (BV=110 CJO=7.048e-13 FC=0.5 IBV=0.0001 IS=4.352e-09 M=0.03 N=1.906 RS=0.6458 TT=3.48e-09 VJ=0.869)\n",
    "\"\"\"\n",
    "\n",
    "circuit.D(1, 'n_out', circuit.gnd, model='1N4148')"
   ]
  },
  {
   "cell_type": "markdown",
   "id": "0b19ba4f-bf89-4333-ae52-db33f2691c77",
   "metadata": {},
   "source": [
    "#### Method 3: Import the subcircuit or model from a library"
   ]
  },
  {
   "cell_type": "code",
   "execution_count": null,
   "id": "81f6407e-ef37-44f7-9d01-5cedaee4dbdf",
   "metadata": {},
   "outputs": [],
   "source": [
    "from PySpice.Spice.Library import SpiceLibrary"
   ]
  },
  {
   "cell_type": "code",
   "execution_count": null,
   "id": "5bf981a8-ccc4-405d-a2eb-37c5a8572342",
   "metadata": {},
   "outputs": [],
   "source": [
    "spice_library = SpiceLibrary(\"./models\")\n",
    "circuit.include(spice_library['1N4148'])"
   ]
  },
  {
   "cell_type": "markdown",
   "id": "0be25054-435c-47b6-8352-6158f868771d",
   "metadata": {},
   "source": [
    "We can now include the diode as a subcircuit (since the diode is defined as a\n",
    "subcircuit in the lib file)."
   ]
  },
  {
   "cell_type": "code",
   "execution_count": null,
   "id": "30ba4bb5-c5ed-4266-8613-7842b27eabb7",
   "metadata": {},
   "outputs": [],
   "source": [
    "circuit.X('D', '1N4148', 'n_out', circuit.gnd)"
   ]
  },
  {
   "cell_type": "markdown",
   "id": "520d04aa-d3ba-4b3e-bac6-5c2cf7cd8477",
   "metadata": {},
   "source": [
    "Print the circuit so far"
   ]
  },
  {
   "cell_type": "code",
   "execution_count": null,
   "id": "58001b25-ff44-416a-a7e1-799fe278afc8",
   "metadata": {},
   "outputs": [],
   "source": [
    "print(circuit)"
   ]
  },
  {
   "cell_type": "markdown",
   "id": "1b0df78e-99aa-4559-92ea-52acc5e67e36",
   "metadata": {},
   "source": [
    "Let's do a DC sweep"
   ]
  },
  {
   "cell_type": "code",
   "execution_count": null,
   "id": "efee32de-81e0-4cbd-a2cd-6e7afcf04291",
   "metadata": {},
   "outputs": [],
   "source": [
    "simulator = circuit.simulator(temperature=25, nominal_temperature=25)\n",
    "analysis = simulator.dc(V1=slice(0, 1, 0.001))"
   ]
  },
  {
   "cell_type": "markdown",
   "id": "a4572d62-1615-40ba-a76c-048bcb025963",
   "metadata": {},
   "source": [
    "Get the data points"
   ]
  },
  {
   "cell_type": "code",
   "execution_count": null,
   "id": "1a887299-f9f6-4dba-9225-ce88775ec862",
   "metadata": {},
   "outputs": [],
   "source": [
    "current = np.array(analysis['V1'])\n",
    "sweep = np.array(analysis.sweep)"
   ]
  },
  {
   "cell_type": "markdown",
   "id": "93596db0-271f-4aba-bf09-4fd34897b1e9",
   "metadata": {},
   "source": [
    "Plot the current vs. voltage"
   ]
  },
  {
   "cell_type": "code",
   "execution_count": null,
   "id": "7235274f-b04a-4168-a05c-ffebc3994fc0",
   "metadata": {},
   "outputs": [],
   "source": [
    "fig, ax = plt.subplots()\n",
    "\n",
    "ax.set(xlabel=\"Voltage[V]\",\n",
    "       ylabel=\"Current[A]\",\n",
    "       title =\"Diode current\")\n",
    "\n",
    "ax.plot(sweep, -current)\n",
    "\n",
    "ax.grid(color='gray', alpha=0.5, linestyle='dashed', linewidth=0.5)\n",
    "\n",
    "plt.show()"
   ]
  },
  {
   "cell_type": "code",
   "execution_count": null,
   "id": "655e8e05-b154-45e8-a5be-22a584f37be9",
   "metadata": {},
   "outputs": [],
   "source": []
  },
  {
   "cell_type": "code",
   "execution_count": null,
   "id": "4a838505-d5a7-4683-8457-5acf93167ac8",
   "metadata": {},
   "outputs": [],
   "source": []
  },
  {
   "cell_type": "markdown",
   "id": "97ab8c08-1b7a-4f5b-86f4-721e1b455ad2",
   "metadata": {},
   "source": [
    "## Example 4: Using Initial Values"
   ]
  },
  {
   "cell_type": "markdown",
   "id": "9767c6d3-c769-403c-86fc-a3e0518fdf24",
   "metadata": {},
   "source": [
    "This section focuses on the process of setting initial values for components\n",
    "(for example, to inform the circuit that a capacitor is already charged to some\n",
    "voltage before the simulation stars). Apart from that, setting the initial\n",
    "value of a component can help the simulation converge to a stable solution more\n",
    "quickly."
   ]
  },
  {
   "cell_type": "markdown",
   "id": "31dbb7d6-c5b6-465c-ad1e-5a0c98e342bc",
   "metadata": {},
   "source": [
    "![circuit4](./images/cir4.svg)"
   ]
  },
  {
   "cell_type": "code",
   "execution_count": null,
   "id": "f73e5c69-39dc-43a9-955b-ba47b8748e99",
   "metadata": {},
   "outputs": [],
   "source": [
    "circuit = Circuit('Capacitor Charging Circuit')\n",
    "\n",
    "circuit.V(1, 'n_in', 0, 5)\n",
    "circuit.PulseVoltageSource(2, 'n_swp', 0, initial_value=0, pulsed_value=1, pulse_width=1, period=2,\n",
    "                           delay_time=2@u_ns, rise_time=0, fall_time=0, phase=None, dc_offset=0)\n",
    "circuit.VoltageControlledSwitch(1, 'n_r1', 'n_in', 'n_swp', 0, model='switch1')\n",
    "circuit.model('switch1', 'SW',  Ron=.002@u_Ohm,  Roff=1@u_MOhm)\n",
    "circuit.R(1, 'n_r1', 'n_c1', 1@u_kOhm)\n",
    "circuit.C(1, 'n_c1', 0, 1@u_pF, ic=2@u_V)\n",
    "print(circuit)"
   ]
  },
  {
   "cell_type": "markdown",
   "id": "ababb521-a8fa-4ce2-a680-f09637a29c7a",
   "metadata": {},
   "source": [
    "Let's do a transient simulation"
   ]
  },
  {
   "cell_type": "code",
   "execution_count": null,
   "id": "309cf9ed-03a8-42ea-8f8c-cbe689db8955",
   "metadata": {},
   "outputs": [],
   "source": [
    "simulator = circuit.simulator(temperature=25, nominal_temperature=25)\n",
    "analysis = simulator.transient(step_time=0.01e-9, end_time=6e-9, use_initial_condition=True) # notice `use_initial_condition`"
   ]
  },
  {
   "cell_type": "code",
   "execution_count": null,
   "id": "e9cbda07-c79d-4326-91e8-60be0a6a514a",
   "metadata": {},
   "outputs": [],
   "source": [
    "time_values = analysis.time\n",
    "v_pulse = analysis.nodes['n_swp']\n",
    "v_c1 = analysis.nodes['n_c1']"
   ]
  },
  {
   "cell_type": "code",
   "execution_count": null,
   "id": "8bcd3450-1bb0-4183-9808-21452df6244f",
   "metadata": {},
   "outputs": [],
   "source": [
    "fig, ax = plt.subplots(figsize=(8,4))\n",
    "\n",
    "ax.set(xlabel=\"Time [s]\",\n",
    "       ylabel=\"Voltage [V]\",\n",
    "       title =\"Transient Analysis\")\n",
    "\n",
    "ax.plot(time_values, v_pulse, label='$V_{c1}$')\n",
    "ax.plot(time_values, v_c1, label='$V_{pulse}$')\n",
    "\n",
    "ax.grid(color='gray', alpha=0.5, linestyle='dashed', linewidth=0.5)\n",
    "\n",
    "ax.legend()\n",
    "\n",
    "plt.show()"
   ]
  },
  {
   "cell_type": "code",
   "execution_count": null,
   "id": "c165e30c-a5e7-4a75-8a9f-1e21b909bb8f",
   "metadata": {},
   "outputs": [],
   "source": []
  },
  {
   "cell_type": "code",
   "execution_count": null,
   "id": "3732a7b8-2be1-4287-967a-445601555165",
   "metadata": {},
   "outputs": [],
   "source": []
  },
  {
   "cell_type": "markdown",
   "id": "da2de985-ae90-4172-9c0e-30a45d1f20b6",
   "metadata": {},
   "source": [
    "## Example 6: Frequency Domain Analysis"
   ]
  },
  {
   "cell_type": "markdown",
   "id": "e9f46abd-31c8-400b-a475-d22c7dbfe337",
   "metadata": {},
   "source": [
    "Here, we show how we can perform a frequency domain analysis (via the `fft`) of\n",
    "the output voltage of a half-wave rectifier."
   ]
  },
  {
   "cell_type": "markdown",
   "id": "bec4f7b6-dc00-4670-a5b1-7926829b8031",
   "metadata": {},
   "source": [
    "![circuit6](./images/cir2.svg)"
   ]
  },
  {
   "cell_type": "code",
   "execution_count": null,
   "id": "9fd872d1-21f2-471b-9271-aad7adc0f9b2",
   "metadata": {},
   "outputs": [],
   "source": [
    "from scipy.fftpack import fft, fftfreq"
   ]
  },
  {
   "cell_type": "code",
   "execution_count": null,
   "id": "087f7269-576f-43a8-bbb9-d4a3bba85205",
   "metadata": {
    "tags": []
   },
   "outputs": [],
   "source": [
    "circuit = Circuit('Diode Rectifier')\n",
    "\n",
    "source_frequency = 1e3\n",
    "\n",
    "circuit.SinusoidalVoltageSource(1, 'n_in', 0, amplitude=3, frequency=source_frequency)\n",
    "\n",
    "circuit.R(1, 'n_in', 'n_out', 1@u_kOhm)\n",
    "\n",
    "circuit.D(1, 'n_out', circuit.gnd, model='1N4148')\n",
    "circuit.raw_spice = \"\"\"\n",
    ".model 1N4148 D (BV=110 CJO=7.048e-13 FC=0.5 IBV=0.0001 IS=4.352e-09 M=0.03 N=1.906 RS=0.6458 TT=3.48e-09 VJ=0.869)\n",
    "\"\"\"\n",
    "\n",
    "print(circuit)"
   ]
  },
  {
   "cell_type": "markdown",
   "id": "f3ba684e-1cfd-464d-8c86-0a1aa1cbfc2c",
   "metadata": {},
   "source": [
    "We need to sample the time-domain signal before we can perform the fft"
   ]
  },
  {
   "cell_type": "code",
   "execution_count": null,
   "id": "6cde768f-3fd8-4f47-b986-be56357f7c46",
   "metadata": {},
   "outputs": [],
   "source": [
    "reference_signal_period = 1 / source_frequency\n",
    "sample_points_per_period = 50\n",
    "number_of_periods_to_capture = 50\n",
    "\n",
    "sampling_time = reference_signal_period / sample_points_per_period\n",
    "end_time = number_of_periods_to_capture * reference_signal_period"
   ]
  },
  {
   "cell_type": "code",
   "execution_count": null,
   "id": "e2332c8e-f386-4d2a-8930-715a19214f40",
   "metadata": {},
   "outputs": [],
   "source": [
    "simulator = circuit.simulator(temperature=25, nominal_temperature=25)\n",
    "analysis = simulator.transient(step_time=sampling_time, end_time=end_time)"
   ]
  },
  {
   "cell_type": "code",
   "execution_count": null,
   "id": "bec03d8b-04a4-4755-a0ba-5dc37d5657d7",
   "metadata": {},
   "outputs": [],
   "source": [
    "time_values = np.array(analysis.time)\n",
    "v_in = np.array(analysis['n_in'])\n",
    "v_out = np.array(analysis['n_out'])"
   ]
  },
  {
   "cell_type": "code",
   "execution_count": null,
   "id": "4077a201-725b-4391-9842-c032ab092802",
   "metadata": {},
   "outputs": [],
   "source": [
    "fig, ax = plt.subplots(figsize=(12,8))\n",
    "\n",
    "# setup plot\n",
    "ax.set(xlabel=\"Time[sec]\",\n",
    "       ylabel=\"Voltage[V]\",\n",
    "       title =\"Transient Analysis\")\n",
    "\n",
    "ax.grid(color='gray', alpha=0.5, linestyle='dashed', linewidth=0.5)\n",
    "\n",
    "# just plot 2 periods to avoid congestion in the plot\n",
    "stop = sample_points_per_period * 2 + len(time_values) - sample_points_per_period * number_of_periods_to_capture\n",
    "\n",
    "ax.plot(time_values[:stop], v_in[:stop], linestyle = 'dashed', label='$V_{1}$')\n",
    "ax.plot(time_values[:stop], v_out[:stop], label='$V_{out}$')\n",
    "ax.legend()\n",
    "\n",
    "plt.show()"
   ]
  },
  {
   "cell_type": "code",
   "execution_count": null,
   "id": "d9c32476-90b3-4c8c-ba41-ae608ac5f533",
   "metadata": {},
   "outputs": [],
   "source": [
    "def plot_frequency_spectrum(sampling_time, time_values, signal):\n",
    "    \n",
    "    # total number of sample points\n",
    "    N = len(time_values)\n",
    "\n",
    "    # sampling time\n",
    "    T = sampling_time\n",
    "\n",
    "    # translate time-domain signal to the frequency domain via the fft\n",
    "    xf = fftfreq(N, T)[:N//2]\n",
    "    yf = fft(signal - np.mean(signal)) # remove the dc\n",
    "    spectrum = 2.0/N * np.abs(yf[0:N//2])\n",
    "    \n",
    "    fig, ax = plt.subplots(figsize=(20, 10))\n",
    "    ax.set_title('Frequency Spectrum')\n",
    "    ax.set_xlabel('Frequency [Hz]')\n",
    "    ax.set_ylabel('Amplitude')\n",
    "    ax.grid()\n",
    "    ax.plot(xf, spectrum)\n",
    "    plt.show()"
   ]
  },
  {
   "cell_type": "markdown",
   "id": "eb8679bf-8da0-46dd-b350-6d5e411b26d9",
   "metadata": {},
   "source": [
    "The input is a pure sine wave. So, we should see a single peak in the frequency domain."
   ]
  },
  {
   "cell_type": "code",
   "execution_count": null,
   "id": "c69a60a7-62ca-45aa-b8ce-3217afd63318",
   "metadata": {},
   "outputs": [],
   "source": [
    "plot_frequency_spectrum(sampling_time, time_values, v_in)"
   ]
  },
  {
   "cell_type": "markdown",
   "id": "9d927f7b-4eaa-4d72-8a02-804fc95ca3d6",
   "metadata": {},
   "source": [
    "The output waveform is distorted. So, we should should see high frequency harmonics in the frequency plot."
   ]
  },
  {
   "cell_type": "code",
   "execution_count": null,
   "id": "ea32defa-da2c-4ac5-8724-69e203916057",
   "metadata": {},
   "outputs": [],
   "source": [
    "plot_frequency_spectrum(sampling_time, time_values, v_out)"
   ]
  },
  {
   "cell_type": "code",
   "execution_count": null,
   "id": "8ed37b48-8d8d-4d44-9558-73a2c66d2f09",
   "metadata": {},
   "outputs": [],
   "source": []
  },
  {
   "cell_type": "code",
   "execution_count": null,
   "id": "fa516461-5196-4239-aa10-70f5d184e204",
   "metadata": {},
   "outputs": [],
   "source": []
  },
  {
   "cell_type": "markdown",
   "id": "241c0766-ec43-4b06-967c-85ce3de071c1",
   "metadata": {},
   "source": [
    "## Example 7: Internal Parameters"
   ]
  },
  {
   "cell_type": "markdown",
   "id": "f6b0363e-d85a-4cbb-a46f-803129f87cc2",
   "metadata": {},
   "source": [
    "In the example here, we measure how the drain current, output voltage,\n",
    "transconductance, and output resistance of the MOSFET changes as we sweep the\n",
    "gate voltage. The transconductance and output resistance are internal\n",
    "parameters of a MOSFET. We need to specifically ask the simulator to save these\n",
    "values during the simulation."
   ]
  },
  {
   "cell_type": "markdown",
   "id": "6b4cc2f0-5753-41cb-ae2f-6fae234d3fa3",
   "metadata": {},
   "source": [
    "![circuit3](./images/cir3.svg)"
   ]
  },
  {
   "cell_type": "code",
   "execution_count": null,
   "id": "c111b802-9959-423d-8887-f03262ee6345",
   "metadata": {
    "tags": []
   },
   "outputs": [],
   "source": [
    "circuit = Circuit('MOS circuit')\n",
    "circuit.V('GG', 'VGG', 0, 2.5)\n",
    "circuit.V('DD', 'VDD', 0, 5)\n",
    "circuit.R('D', 'VDD', 'VD', 1e3)\n",
    "circuit.M('n', 'VD', 'VGG', 0, 0, model='NMOS-SH', l=1e-6, w=10e-6)\n",
    "circuit.model('NMOS-SH', 'nmos', Kp=190E-6, Vto=0.57, Lambda=0.16, Gamma=0.50, Phi=0.7)\n",
    "print(circuit)"
   ]
  },
  {
   "cell_type": "markdown",
   "id": "6cf6b7ec-54c1-4212-b181-d79206b8ed4c",
   "metadata": {},
   "source": [
    "Save internal parameters of the mosfet"
   ]
  },
  {
   "cell_type": "code",
   "execution_count": null,
   "id": "a4644833-acfd-4afb-9ff6-6bf6e560a30b",
   "metadata": {
    "tags": []
   },
   "outputs": [],
   "source": [
    "simulator = circuit.simulator(temperature=25, nominal_temperature=25)"
   ]
  },
  {
   "cell_type": "code",
   "execution_count": null,
   "id": "cd74ce39-1932-4ff5-a01e-c16bf0ac7f89",
   "metadata": {
    "tags": []
   },
   "outputs": [],
   "source": [
    "parameter_names = [\"gm\", \"gds\", \"id\"]\n",
    "simulator.save_internal_parameters(*[f'@mn[{param}]' for param in parameter_names])"
   ]
  },
  {
   "cell_type": "code",
   "execution_count": null,
   "id": "e95227ec-7755-4ad7-ab69-bb85b7632e7c",
   "metadata": {
    "tags": []
   },
   "outputs": [],
   "source": [
    "print(simulator)"
   ]
  },
  {
   "cell_type": "markdown",
   "id": "0e5cc32e-a1f1-452a-8112-cbca00b5f1e1",
   "metadata": {
    "tags": []
   },
   "source": [
    "Sweep the gate voltage"
   ]
  },
  {
   "cell_type": "code",
   "execution_count": null,
   "id": "e851180f-c5f9-498d-ac35-4faa811b20bc",
   "metadata": {
    "tags": []
   },
   "outputs": [],
   "source": [
    "analysis = simulator.dc(VGG=slice(0, 5, 0.1))"
   ]
  },
  {
   "cell_type": "markdown",
   "id": "541d6b2c-45da-4949-b3b2-2d7cdede6528",
   "metadata": {},
   "source": [
    "Get results"
   ]
  },
  {
   "cell_type": "code",
   "execution_count": null,
   "id": "9059c26d-ff09-443a-a480-679d504071df",
   "metadata": {
    "tags": []
   },
   "outputs": [],
   "source": [
    "param_result = {}\n",
    "for param in parameter_names:\n",
    "    param_result[param] = np.array(analysis[f'@mn[{param}]'])\n",
    "    \n",
    "vgg = analysis.sweep\n",
    "vd = analysis.nodes['vd']"
   ]
  },
  {
   "cell_type": "markdown",
   "id": "d44ecd8e-78bf-400e-a8ea-73ea84a7242e",
   "metadata": {},
   "source": [
    "Plot"
   ]
  },
  {
   "cell_type": "code",
   "execution_count": null,
   "id": "85b1cad9-8df0-4f60-82b7-68f02a2743cd",
   "metadata": {},
   "outputs": [],
   "source": [
    "fig, ax_voltage = plt.subplots(figsize=(8,4))\n",
    "ax_current = ax_voltage.twinx()\n",
    "ax_conductance = ax_voltage.twinx()\n",
    "\n",
    "# Offset the right spine of ax3\n",
    "ax_conductance.spines[\"right\"].set_position((\"axes\", 1.2))\n",
    "\n",
    "ax_voltage.set_ylabel(\"Voltage [V]\")\n",
    "ax_current.set_ylabel(\"Current [A]\")\n",
    "ax_conductance.set_ylabel(\"Conductance [S]\")\n",
    "\n",
    "ax_voltage.set_xlabel(\"$V_{GS}$\")\n",
    "ax_voltage.set_title(\"Large Signal Characteristics (NMOS)\")\n",
    "\n",
    "p1 = ax_voltage.plot(vgg, vd, label='$V_{out}$', color=\"green\")\n",
    "p2 = ax_current.plot(vgg, param_result[\"id\"], label='$I_{D}$', color=\"blue\")\n",
    "p3 = ax_conductance.plot(vgg, param_result[\"gm\"], label='$g_{m}$', color=\"red\")\n",
    "p4 = ax_conductance.plot(vgg, param_result[\"gds\"], label='$g_{ds}$', color=\"orange\")\n",
    "\n",
    "ax_voltage.grid(color='gray', alpha=0.5, linestyle='dashed', linewidth=0.5)\n",
    "\n",
    "# create the legend and set its location\n",
    "lines = p1 + p2 + p3 + p4\n",
    "labels = [l.get_label() for l in lines]\n",
    "ax_voltage.legend(lines, labels, loc='upper center', bbox_to_anchor=(0.5, -0.15), ncol=4)\n",
    "\n",
    "plt.show()"
   ]
  },
  {
   "cell_type": "code",
   "execution_count": null,
   "id": "c0ec1096-e8e6-4e04-9c25-b1aac9790c4a",
   "metadata": {},
   "outputs": [],
   "source": []
  },
  {
   "cell_type": "code",
   "execution_count": null,
   "id": "cbe46357-5b32-4777-983e-7fcfdd7a5b93",
   "metadata": {},
   "outputs": [],
   "source": []
  },
  {
   "cell_type": "markdown",
   "id": "e5979ecc-bb2f-4ef5-8383-0de9edb40360",
   "metadata": {},
   "source": [
    "## NgSpice Shared"
   ]
  },
  {
   "cell_type": "code",
   "execution_count": 29,
   "id": "78bd0807-9a3c-4b2c-8f1e-834d533f2a55",
   "metadata": {
    "tags": []
   },
   "outputs": [],
   "source": [
    "from PySpice.Spice.NgSpice.Shared import NgSpiceShared"
   ]
  },
  {
   "cell_type": "code",
   "execution_count": 30,
   "id": "642618bf-0b5f-452a-a4c1-5d5e22a6c556",
   "metadata": {
    "tags": []
   },
   "outputs": [],
   "source": [
    "circuit = \"\"\"\n",
    ".title Resistive Divider\n",
    "V1 n_in 0 5V\n",
    "R1 n_in n_out 2kOhm\n",
    "R2 n_out 0 8kOhm\n",
    ".options TEMP = 25C\n",
    ".options TNOM = 25C\n",
    ".op\n",
    ".end\n",
    "\"\"\""
   ]
  },
  {
   "cell_type": "code",
   "execution_count": 31,
   "id": "a1453c57-2447-425d-8332-09238cf6e93f",
   "metadata": {
    "tags": []
   },
   "outputs": [],
   "source": [
    "ngspice = NgSpiceShared.new_instance()\n",
    "ngspice.load_circuit(circuit)\n",
    "ngspice.run()"
   ]
  },
  {
   "cell_type": "code",
   "execution_count": 32,
   "id": "811a56e8-aa6c-4497-a1bc-bc05b70ad3eb",
   "metadata": {
    "tags": []
   },
   "outputs": [
    {
     "name": "stdout",
     "output_type": "stream",
     "text": [
      "Plots: ['op1', 'ac1', 'const']\n"
     ]
    }
   ],
   "source": [
    "print('Plots:', ngspice.plot_names)"
   ]
  },
  {
   "cell_type": "code",
   "execution_count": 33,
   "id": "d112b9a2-f56f-411c-b715-8265f82b6161",
   "metadata": {
    "tags": []
   },
   "outputs": [
    {
     "name": "stdout",
     "output_type": "stream",
     "text": [
      "n_out [4.]\n",
      "n_in [5.]\n"
     ]
    }
   ],
   "source": [
    "for node in ngspice.plot('', ngspice.last_plot).nodes():\n",
    "    print(str(node), np.array(node))"
   ]
  },
  {
   "cell_type": "code",
   "execution_count": 34,
   "id": "81a3b0f0-cec2-469e-ab1e-159244ec266e",
   "metadata": {
    "tags": []
   },
   "outputs": [],
   "source": [
    "ngspice.exec_command(f'alter r1=10k')\n",
    "ngspice.run()"
   ]
  },
  {
   "cell_type": "code",
   "execution_count": 35,
   "id": "98873bb6-aa8e-4a6c-af53-41eb05d15ba7",
   "metadata": {
    "tags": []
   },
   "outputs": [
    {
     "name": "stdout",
     "output_type": "stream",
     "text": [
      "Plots: ['op2', 'op1', 'ac1', 'const']\n"
     ]
    }
   ],
   "source": [
    "print('Plots:', ngspice.plot_names)"
   ]
  },
  {
   "cell_type": "code",
   "execution_count": 36,
   "id": "0859ab2c-d6f4-4ffa-8cc5-4ea3c000cce9",
   "metadata": {
    "tags": []
   },
   "outputs": [
    {
     "name": "stdout",
     "output_type": "stream",
     "text": [
      "n_out [2.22222222]\n",
      "n_in [5.]\n"
     ]
    }
   ],
   "source": [
    "for node in ngspice.plot('', 'op2').nodes():\n",
    "    print(str(node), np.array(node))"
   ]
  },
  {
   "cell_type": "code",
   "execution_count": 37,
   "id": "94d7b446-0b6e-4048-99d0-f51a603731b0",
   "metadata": {},
   "outputs": [],
   "source": [
    "ngspice.destroy()"
   ]
  },
  {
   "cell_type": "code",
   "execution_count": null,
   "id": "4fe889ad",
   "metadata": {},
   "outputs": [],
   "source": []
  }
 ],
 "metadata": {
  "kernelspec": {
   "display_name": "myspice",
   "language": "python",
   "name": "python3"
  },
  "language_info": {
   "codemirror_mode": {
    "name": "ipython",
    "version": 3
   },
   "file_extension": ".py",
   "mimetype": "text/x-python",
   "name": "python",
   "nbconvert_exporter": "python",
   "pygments_lexer": "ipython3",
   "version": "3.12.3"
  }
 },
 "nbformat": 4,
 "nbformat_minor": 5
}
